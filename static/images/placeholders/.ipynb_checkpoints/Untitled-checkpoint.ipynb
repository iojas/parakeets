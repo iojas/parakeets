{
 "cells": [
  {
   "cell_type": "code",
   "execution_count": 6,
   "metadata": {
    "collapsed": false
   },
   "outputs": [
    {
     "name": "stdout",
     "output_type": "stream",
     "text": [
      "C:/Users/ojas/Desktop/parakeets\\image1.jpg\n",
      "C:/Users/ojas/Desktop/parakeets\\image2.jpg\n",
      "C:/Users/ojas/Desktop/parakeets\\image3.jpg\n",
      "C:/Users/ojas/Desktop/parakeets\\image4.jpg\n",
      "C:/Users/ojas/Desktop/parakeets\\image5.jpg\n",
      "C:/Users/ojas/Desktop/parakeets\\image6.jpg\n",
      "C:/Users/ojas/Desktop/parakeets\\image7.jpg\n"
     ]
    }
   ],
   "source": [
    "import os\n",
    "from PIL import Image\n",
    "from resizeimage import resizeimage\n",
    "\n",
    "def get_files(path):\n",
    "     for (dirpath, _, filenames) in os.walk(path):\n",
    "        for filename in filenames:\n",
    "             yield os.path.join(dirpath, filename)\n",
    "list_files = get_files('C:/Users/ojas/Desktop/parakeets')\n",
    "i=0\n",
    "for filename in list_files:\n",
    "    print filename\n",
    "    with open(filename, 'r+b') as f:\n",
    "        with Image.open(f) as image:\n",
    "            cover = resizeimage.resize_cover(image, [125, 90])\n",
    "            cover.save('image-small'+str(i)+'.jpeg', image.format)\n",
    "            i+=1\n",
    "    "
   ]
  },
  {
   "cell_type": "code",
   "execution_count": null,
   "metadata": {
    "collapsed": true
   },
   "outputs": [],
   "source": []
  }
 ],
 "metadata": {
  "anaconda-cloud": {},
  "kernelspec": {
   "display_name": "Python [conda root]",
   "language": "python",
   "name": "conda-root-py"
  },
  "language_info": {
   "codemirror_mode": {
    "name": "ipython",
    "version": 2
   },
   "file_extension": ".py",
   "mimetype": "text/x-python",
   "name": "python",
   "nbconvert_exporter": "python",
   "pygments_lexer": "ipython2",
   "version": "2.7.12"
  }
 },
 "nbformat": 4,
 "nbformat_minor": 1
}
